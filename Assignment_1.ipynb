{
  "nbformat": 4,
  "nbformat_minor": 0,
  "metadata": {
    "colab": {
      "name": "Assignment_1.ipynb",
      "provenance": [],
      "authorship_tag": "ABX9TyOSQJhNOCBcmY0lhg8P8kO6",
      "include_colab_link": true
    },
    "kernelspec": {
      "name": "python3",
      "display_name": "Python 3"
    },
    "accelerator": "GPU"
  },
  "cells": [
    {
      "cell_type": "markdown",
      "metadata": {
        "id": "view-in-github",
        "colab_type": "text"
      },
      "source": [
        "<a href=\"https://colab.research.google.com/github/YuvrajTak/CIPHERML_Assignments/blob/master/Assignment_1.ipynb\" target=\"_parent\"><img src=\"https://colab.research.google.com/assets/colab-badge.svg\" alt=\"Open In Colab\"/></a>"
      ]
    },
    {
      "cell_type": "markdown",
      "metadata": {
        "id": "jVKoPBK-IndM",
        "colab_type": "text"
      },
      "source": [
        "1. A program to get user input in the form of list data type and Return a list by removing all the duplicates."
      ]
    },
    {
      "cell_type": "code",
      "metadata": {
        "id": "VHs2ztPJIwhy",
        "colab_type": "code",
        "colab": {
          "base_uri": "https://localhost:8080/",
          "height": 53
        },
        "outputId": "f9e06e24-9a23-4e09-838b-e889f464b96b"
      },
      "source": [
        "#Define duplicate function\n",
        "def Remove(duplicate): \n",
        "    final_list = []    #initilize a empty\n",
        "    for num in duplicate: \n",
        "        if num not in final_list: \n",
        "            final_list.append(num) \n",
        "    return final_list \n",
        "      \n",
        "duplicate = input([]) #Take User input\n",
        "print(Remove(duplicate)) #Removing all repeated values"
      ],
      "execution_count": 1,
      "outputs": [
        {
          "output_type": "stream",
          "text": [
            "12334\n",
            "['1', '2', '3', '4']\n"
          ],
          "name": "stdout"
        }
      ]
    },
    {
      "cell_type": "markdown",
      "metadata": {
        "id": "yzvQBfdIJPzw",
        "colab_type": "text"
      },
      "source": [
        "\n",
        "   2. Create a tuple and perform the following operation."
      ]
    },
    {
      "cell_type": "code",
      "metadata": {
        "id": "aR-Rw0-VJYiP",
        "colab_type": "code",
        "colab": {
          "base_uri": "https://localhost:8080/",
          "height": 90
        },
        "outputId": "46be0d7a-e614-41d3-916f-2bafb1b822fe"
      },
      "source": [
        "tup = (55,22,25,70,12,2,32,7,11)\n",
        "\n",
        "print(len(tup))  # length of tuple\n",
        "\n",
        "print(min(tup))  # Minimum value of tuple\n",
        "\n",
        "print(max(tup)) # Miximum value of tuple\n",
        "\n",
        "print(sum(tup)) # Sum value of tuple"
      ],
      "execution_count": 29,
      "outputs": [
        {
          "output_type": "stream",
          "text": [
            "9\n",
            "2\n",
            "70\n",
            "236\n"
          ],
          "name": "stdout"
        }
      ]
    },
    {
      "cell_type": "markdown",
      "metadata": {
        "id": "zvSkb7e9KBTa",
        "colab_type": "text"
      },
      "source": [
        "\n",
        "  3. Change the ith bit of a given number to 1.\n",
        "  \n",
        "\n"
      ]
    },
    {
      "cell_type": "code",
      "metadata": {
        "id": "5y9R9pK4KML4",
        "colab_type": "code",
        "colab": {
          "base_uri": "https://localhost:8080/",
          "height": 72
        },
        "outputId": "ac8e84ca-6630-4f6e-b70f-2e25824ebee8"
      },
      "source": [
        "number = int(input(\"number = \"))\n",
        "\n",
        "i = int(input('i = '))\n",
        "\n",
        "magic_num = 1 << i\n",
        "\n",
        "bit = 1 if(number & magic_num > 0) else 0\n",
        "\n",
        "print(bit)"
      ],
      "execution_count": 10,
      "outputs": [
        {
          "output_type": "stream",
          "text": [
            "number = 12\n",
            "i = 2\n",
            "1\n"
          ],
          "name": "stdout"
        }
      ]
    },
    {
      "cell_type": "code",
      "metadata": {
        "id": "lxO8nMDpKqGH",
        "colab_type": "code",
        "colab": {}
      },
      "source": [
        ""
      ],
      "execution_count": 0,
      "outputs": []
    },
    {
      "cell_type": "markdown",
      "metadata": {
        "id": "b2EhXTVUKrqP",
        "colab_type": "text"
      },
      "source": [
        "4.  Given a number, print 1 if the number is odd otherwise print 0.\n",
        "**bold text**\n"
      ]
    },
    {
      "cell_type": "code",
      "metadata": {
        "id": "ZiIozUN5LFZL",
        "colab_type": "code",
        "colab": {
          "base_uri": "https://localhost:8080/",
          "height": 53
        },
        "outputId": "7cc025a3-842b-4474-c414-21e39a92b40e"
      },
      "source": [
        "number = int(input(\"Enter a number\")) # Take user input\n",
        "\n",
        "while(number %2 == 0):  #using while loop\n",
        "  \n",
        "    print(\"number is even so, 0\")\n",
        "    break\n",
        "while (number %2!= 0):\n",
        "    print(\"number is odd so,1\")\n",
        "    break"
      ],
      "execution_count": 17,
      "outputs": [
        {
          "output_type": "stream",
          "text": [
            "Enter a number12\n",
            "number is even so, 0\n"
          ],
          "name": "stdout"
        }
      ]
    },
    {
      "cell_type": "code",
      "metadata": {
        "id": "T-Og_ReqLeFL",
        "colab_type": "code",
        "colab": {}
      },
      "source": [
        ""
      ],
      "execution_count": 0,
      "outputs": []
    },
    {
      "cell_type": "markdown",
      "metadata": {
        "id": "xkruOoDWLhWJ",
        "colab_type": "text"
      },
      "source": [
        "5. Merge two list into a single shorted list that contains every item of list in ascending order.bold text"
      ]
    },
    {
      "cell_type": "code",
      "metadata": {
        "id": "jF7GONHoLpNK",
        "colab_type": "code",
        "colab": {
          "base_uri": "https://localhost:8080/",
          "height": 72
        },
        "outputId": "c0fad2f5-e8d6-4506-f4ca-7ea637c45c9d"
      },
      "source": [
        "list1 = [1, 5, 6, 9, 11] #list 1\n",
        "list2 = [3, 4, 7, 8, 10] #list 2\n",
        "   \n",
        "print(\" list 1 is : \" + str(list1)) \n",
        "print(\" list 2 is : \" + str(list2)) \n",
        "  \n",
        "combo = sorted(list1 + list2) #shorting and adding both list\n",
        "  \n",
        "# printing result \n",
        "print(\"The finale sorted list is : \" + str(combo)) "
      ],
      "execution_count": 20,
      "outputs": [
        {
          "output_type": "stream",
          "text": [
            " list 1 is : [1, 5, 6, 9, 11]\n",
            " list 2 is : [3, 4, 7, 8, 10]\n",
            "The finale sorted list is : [1, 3, 4, 5, 6, 7, 8, 9, 10, 11]\n"
          ],
          "name": "stdout"
        }
      ]
    },
    {
      "cell_type": "markdown",
      "metadata": {
        "id": "PN1-Kc-7MQb3",
        "colab_type": "text"
      },
      "source": [
        "6. \n",
        "    Create a user defind dictionary to store name and marks of students. Sort the dictionary"
      ]
    },
    {
      "cell_type": "code",
      "metadata": {
        "id": "RdUNoaRFYpp2",
        "colab_type": "code",
        "colab": {
          "base_uri": "https://localhost:8080/",
          "height": 35
        },
        "outputId": "92021c12-5075-4181-f884-8d4016e24c2f"
      },
      "source": [
        "d = {'SITU':90,'GITU':45,'KITU':25,'PITU':72,'MITU':50}\n",
        "a = sorted(d.items(), key=lambda x: x[1])   #USING lambda function \n",
        "print(a)  #Shorted name according to their marks."
      ],
      "execution_count": 22,
      "outputs": [
        {
          "output_type": "stream",
          "text": [
            "[('KITU', 25), ('GITU', 45), ('MITU', 50), ('PITU', 72), ('SITU', 90)]\n"
          ],
          "name": "stdout"
        }
      ]
    }
  ]
}