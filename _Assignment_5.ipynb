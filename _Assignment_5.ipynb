{
  "nbformat": 4,
  "nbformat_minor": 0,
  "metadata": {
    "colab": {
      "name": "_Assignment_5.ipynb",
      "provenance": [],
      "collapsed_sections": [],
      "toc_visible": true,
      "authorship_tag": "ABX9TyMPGPkkK3jhH7DCVs+WUvPl",
      "include_colab_link": true
    },
    "kernelspec": {
      "name": "python3",
      "display_name": "Python 3"
    },
    "accelerator": "GPU"
  },
  "cells": [
    {
      "cell_type": "markdown",
      "metadata": {
        "id": "view-in-github",
        "colab_type": "text"
      },
      "source": [
        "<a href=\"https://colab.research.google.com/github/YuvrajTak/CIPHERML_Assignments/blob/master/_Assignment_5.ipynb\" target=\"_parent\"><img src=\"https://colab.research.google.com/assets/colab-badge.svg\" alt=\"Open In Colab\"/></a>"
      ]
    },
    {
      "cell_type": "markdown",
      "metadata": {
        "id": "gxK9vauxJtnE",
        "colab_type": "text"
      },
      "source": [
        "## Importing Libraries"
      ]
    },
    {
      "cell_type": "code",
      "metadata": {
        "id": "Fyv327zVfXWM",
        "colab_type": "code",
        "colab": {}
      },
      "source": [
        "import pandas as pd;\n",
        "import numpy as np;\n",
        "import matplotlib.pyplot as plt;\n",
        "import seaborn as sea;"
      ],
      "execution_count": null,
      "outputs": []
    },
    {
      "cell_type": "markdown",
      "metadata": {
        "id": "fSOA7_hrKQNO",
        "colab_type": "text"
      },
      "source": [
        "# Importing DataSet"
      ]
    },
    {
      "cell_type": "code",
      "metadata": {
        "id": "JL1zF1_nhAuS",
        "colab_type": "code",
        "colab": {}
      },
      "source": [
        "df = pd.read_csv(\"/content/adult.csv\");\n",
        "df"
      ],
      "execution_count": null,
      "outputs": []
    },
    {
      "cell_type": "markdown",
      "metadata": {
        "id": "lAxa6_XzKcXA",
        "colab_type": "text"
      },
      "source": [
        "**Observation**\n",
        "\n",
        "\n",
        "*   This data set contain some missing values \"?\"\n"
      ]
    },
    {
      "cell_type": "code",
      "metadata": {
        "id": "t7RLskX7hOZX",
        "colab_type": "code",
        "colab": {}
      },
      "source": [
        "missing_val = ['?']\n",
        "\n",
        "df = pd.read_csv('/content/adult.csv', na_values = missing_val)\n",
        "\n",
        "df.head()\n",
        "\n"
      ],
      "execution_count": null,
      "outputs": []
    },
    {
      "cell_type": "code",
      "metadata": {
        "id": "LKTpU1Mxhdp0",
        "colab_type": "code",
        "colab": {}
      },
      "source": [
        "row = df.shape[0]\n",
        "col = df.shape[1]\n",
        "df.shape"
      ],
      "execution_count": null,
      "outputs": []
    },
    {
      "cell_type": "markdown",
      "metadata": {
        "id": "UjbtgaVCKxug",
        "colab_type": "text"
      },
      "source": [
        "**Observation**\n",
        "\n",
        "\n",
        "    Number of Rows in Dataset = 48842\n",
        "    Number of Columns in Dataset = 15\n"
      ]
    },
    {
      "cell_type": "code",
      "metadata": {
        "id": "PEguiFjihitL",
        "colab_type": "code",
        "colab": {}
      },
      "source": [
        "df.info()"
      ],
      "execution_count": null,
      "outputs": []
    },
    {
      "cell_type": "markdown",
      "metadata": {
        "id": "4MPuqX68LGxB",
        "colab_type": "text"
      },
      "source": [
        "**Observation**\n",
        "\n",
        " 6 continuous, 9 nominal attributes in data set\n",
        "\n",
        "Continuous attributes\n",
        "\n",
        "    age\n",
        "    fnlwgt\n",
        "    educational-num\n",
        "    capital-gain\n",
        "    capital-loss\n",
        "    hours-per-week\n",
        "\n",
        "nominal attributes\n",
        "\n",
        "    workclass\n",
        "    education\n",
        "    material-status\n",
        "    occupation\n",
        "    relationship\n",
        "    race\n",
        "    gender\n",
        "    native-country\n",
        "    income\n",
        "\n"
      ]
    },
    {
      "cell_type": "markdown",
      "metadata": {
        "id": "bde-oAFuLdr8",
        "colab_type": "text"
      },
      "source": [
        "\n",
        "# Find Total Null Values in their columns"
      ]
    },
    {
      "cell_type": "code",
      "metadata": {
        "id": "D_P8ux5Kho3p",
        "colab_type": "code",
        "colab": {}
      },
      "source": [
        "df.isnull().sum()"
      ],
      "execution_count": null,
      "outputs": []
    },
    {
      "cell_type": "markdown",
      "metadata": {
        "id": "u56kJUNpLmvI",
        "colab_type": "text"
      },
      "source": [
        "**Observation**\n",
        "\n",
        "Null value contain column are\n",
        "\n",
        "    workclass 2799\n",
        "    occuption 2809\n",
        "    native-country 857\n",
        "\n"
      ]
    },
    {
      "cell_type": "markdown",
      "metadata": {
        "id": "IbFMfxsYLxpf",
        "colab_type": "text"
      },
      "source": [
        "# Descriptive Analysis"
      ]
    },
    {
      "cell_type": "code",
      "metadata": {
        "id": "PWmwb_hYhpcw",
        "colab_type": "code",
        "colab": {}
      },
      "source": [
        "df.describe(include=\"all\")"
      ],
      "execution_count": null,
      "outputs": []
    },
    {
      "cell_type": "markdown",
      "metadata": {
        "id": "53n0ap7lL0jj",
        "colab_type": "text"
      },
      "source": [
        "\n",
        "\n",
        "**Observation**\n",
        "\n",
        "    age of most working people is 38.\n",
        "    Most of people have their native country United-States(43832)\n",
        "    Most of the peoples earn more then 50K (37155)\n",
        "    Most of the people work in private sector (33906)\n",
        "    Most number of peoples are high school graduate (15784)\n",
        "    White peoples have the majority in employment.\n",
        "    Most of working peoples are Male and married.\n",
        "    Most peoples's have their occputation as Prof-specialty\n",
        "\n"
      ]
    },
    {
      "cell_type": "markdown",
      "metadata": {
        "id": "n4oQfVbqMD8t",
        "colab_type": "text"
      },
      "source": [
        "# Handling Missing Values"
      ]
    },
    {
      "cell_type": "code",
      "metadata": {
        "id": "BV0EabN3hqBi",
        "colab_type": "code",
        "colab": {}
      },
      "source": [
        "df.loc[df[\"workclass\"].isnull(),[\"occupation\",\"workclass\",\"native-country\"]]"
      ],
      "execution_count": null,
      "outputs": []
    },
    {
      "cell_type": "markdown",
      "metadata": {
        "id": "nMtNyk7ZMMUk",
        "colab_type": "text"
      },
      "source": [
        "\n",
        "\n",
        "**Observation**\n",
        "\n",
        "when ever workclass column have null values occuption also have null values.\n"
      ]
    },
    {
      "cell_type": "code",
      "metadata": {
        "id": "KrBwcyJiiBil",
        "colab_type": "code",
        "colab": {}
      },
      "source": [
        "df.loc[df[\"native-country\"].isnull(),[\"workclass\"]]"
      ],
      "execution_count": null,
      "outputs": []
    },
    {
      "cell_type": "markdown",
      "metadata": {
        "id": "siS5hdhTMaJl",
        "colab_type": "text"
      },
      "source": [
        "# Removing The Missing Values"
      ]
    },
    {
      "cell_type": "code",
      "metadata": {
        "id": "N1NPS3ipiBH4",
        "colab_type": "code",
        "colab": {}
      },
      "source": [
        "df.dropna(inplace=True)\n",
        "df"
      ],
      "execution_count": null,
      "outputs": []
    },
    {
      "cell_type": "code",
      "metadata": {
        "id": "lanCa60jiAw8",
        "colab_type": "code",
        "colab": {}
      },
      "source": [
        "df.isnull().sum()"
      ],
      "execution_count": null,
      "outputs": []
    },
    {
      "cell_type": "code",
      "metadata": {
        "id": "OV3qRRMWiY3C",
        "colab_type": "code",
        "colab": {}
      },
      "source": [
        "df.head()"
      ],
      "execution_count": null,
      "outputs": []
    },
    {
      "cell_type": "code",
      "metadata": {
        "id": "cX8NopWfiYay",
        "colab_type": "code",
        "colab": {}
      },
      "source": [
        "((row - df.shape[0] )/ row) *100"
      ],
      "execution_count": null,
      "outputs": []
    },
    {
      "cell_type": "markdown",
      "metadata": {
        "id": "YQMX6UK1Mub1",
        "colab_type": "text"
      },
      "source": [
        "\n",
        "\n",
        "**Observation**\n",
        "\n",
        "    7.41% of Rows have removed to handle missing values.\n",
        "\n"
      ]
    },
    {
      "cell_type": "code",
      "metadata": {
        "id": "ezJii5Hailij",
        "colab_type": "code",
        "colab": {}
      },
      "source": [
        "df"
      ],
      "execution_count": null,
      "outputs": []
    },
    {
      "cell_type": "markdown",
      "metadata": {
        "id": "e24m6MzhM4c_",
        "colab_type": "text"
      },
      "source": [
        "**Observation**\n",
        "\n",
        "   \n",
        "\n",
        "--- This data set is ready for Analysis operation.\n",
        "\n",
        "\n",
        "\n"
      ]
    },
    {
      "cell_type": "markdown",
      "metadata": {
        "id": "_hHUwiKsNsG5",
        "colab_type": "text"
      },
      "source": [
        "# Exploratory Data Analysis"
      ]
    },
    {
      "cell_type": "markdown",
      "metadata": {
        "id": "p0vHN5kuNmrM",
        "colab_type": "text"
      },
      "source": [
        "In this given link we get EDA in great detail:-\n",
        "\n",
        "https://github.com/YuvrajTak/CIPHERML_Assignments/blob/master/Assignment_4.ipynb"
      ]
    },
    {
      "cell_type": "markdown",
      "metadata": {
        "id": "tOJiu0MXOYgx",
        "colab_type": "text"
      },
      "source": [
        "# Target Column\n",
        "\"income\""
      ]
    },
    {
      "cell_type": "code",
      "metadata": {
        "id": "KFXcw5Gmik7V",
        "colab_type": "code",
        "colab": {}
      },
      "source": [
        "df['income'].astype('category').value_counts()"
      ],
      "execution_count": null,
      "outputs": []
    },
    {
      "cell_type": "markdown",
      "metadata": {
        "id": "6vUh5bJkYUwm",
        "colab_type": "text"
      },
      "source": [
        "**Observation**\n",
        "  Our Target column \"income\" have two category.\n",
        "  1. High income\n",
        "  2. Low income"
      ]
    },
    {
      "cell_type": "code",
      "metadata": {
        "id": "j96cQ4wbjXVv",
        "colab_type": "code",
        "colab": {}
      },
      "source": [
        "#We derive two array\n",
        "# One for object base column\n",
        "#second for numeric base column\n",
        "df_obj = []\n",
        "df_num = []\n",
        "for i in df:\n",
        "    if df[i].dtype == \"object\":\n",
        "        df_obj.append(i)\n",
        "    else:\n",
        "        df_num.append(i)"
      ],
      "execution_count": null,
      "outputs": []
    },
    {
      "cell_type": "code",
      "metadata": {
        "id": "xmR0QiBTwvI1",
        "colab_type": "code",
        "colab": {}
      },
      "source": [
        "df[\"income\"].replace(to_replace=\"<=50K\",value=0,inplace=True)\n",
        "df[\"income\"].replace(to_replace=\">50K\",value=1,inplace=True)"
      ],
      "execution_count": null,
      "outputs": []
    },
    {
      "cell_type": "markdown",
      "metadata": {
        "id": "6dp7YBZxZwcI",
        "colab_type": "text"
      },
      "source": [
        "**Observation**\n",
        "  \n",
        "   Our Target column is replace from Object to Numeric(0,1) category."
      ]
    },
    {
      "cell_type": "code",
      "metadata": {
        "id": "Xcwv8L2SwvFm",
        "colab_type": "code",
        "colab": {}
      },
      "source": [
        "df.dropna(inplace=True,axis=0)\n",
        "df.drop(\"fnlwgt\",inplace=True,axis=1)\n",
        "df_num.remove(\"fnlwgt\")\n",
        "df_obj.remove(\"income\")"
      ],
      "execution_count": null,
      "outputs": []
    },
    {
      "cell_type": "markdown",
      "metadata": {
        "id": "Kc-vMYGXak-T",
        "colab_type": "text"
      },
      "source": [
        "**Observaion**\n",
        "\n",
        "Removing Some unnecessory column"
      ]
    },
    {
      "cell_type": "code",
      "metadata": {
        "id": "ku6WEiB6wuli",
        "colab_type": "code",
        "colab": {}
      },
      "source": [
        "obj_data = df[df_obj]\n",
        "df.drop(df_obj,axis=1,inplace=True)\n",
        "df.reset_index(inplace=True)\n",
        "df"
      ],
      "execution_count": null,
      "outputs": []
    },
    {
      "cell_type": "code",
      "metadata": {
        "id": "mh8EdAEgwujC",
        "colab_type": "code",
        "colab": {}
      },
      "source": [
        "obj_data"
      ],
      "execution_count": null,
      "outputs": []
    },
    {
      "cell_type": "markdown",
      "metadata": {
        "id": "pv8n3Ax2boPZ",
        "colab_type": "text"
      },
      "source": [
        "Observation\n",
        "\n",
        "All Object base data column"
      ]
    },
    {
      "cell_type": "code",
      "metadata": {
        "id": "O_gu8uoWwuhA",
        "colab_type": "code",
        "colab": {}
      },
      "source": [
        "from sklearn.preprocessing import OneHotEncoder\n",
        "onecoder = OneHotEncoder(drop='first', sparse=False)\n",
        "\n",
        "obj_data = pd.DataFrame(onecoder.fit_transform(obj_data),columns=onecoder.get_feature_names(obj_data.columns))\n",
        "\n",
        "obj_data"
      ],
      "execution_count": null,
      "outputs": []
    },
    {
      "cell_type": "markdown",
      "metadata": {
        "id": "JR1NLgtscBIQ",
        "colab_type": "text"
      },
      "source": [
        "**Observation**\n",
        "\n",
        "Our feature (columns) increase and become 90 \n"
      ]
    },
    {
      "cell_type": "code",
      "metadata": {
        "id": "ErgcLTf7wucy",
        "colab_type": "code",
        "colab": {}
      },
      "source": [
        "df = pd.concat([df,obj_data],axis=1)\n",
        "df.drop(\"index\",inplace=True,axis=1)\n",
        "df"
      ],
      "execution_count": null,
      "outputs": []
    },
    {
      "cell_type": "markdown",
      "metadata": {
        "id": "z5k9z5S0c9tU",
        "colab_type": "text"
      },
      "source": [
        "**Observation**\n",
        "\n",
        "All feature(Numeric+Object) are concetinate."
      ]
    },
    {
      "cell_type": "markdown",
      "metadata": {
        "id": "3ABDyWcgdcFo",
        "colab_type": "text"
      },
      "source": [
        "# Split data in Test and Train"
      ]
    },
    {
      "cell_type": "code",
      "metadata": {
        "id": "PZo5MfxqwubO",
        "colab_type": "code",
        "colab": {}
      },
      "source": [
        "from sklearn.model_selection import train_test_split \n",
        "#Import sklearn libery to split data.\n",
        "train_data,test_data=train_test_split(df,test_size=.25,random_state=10)"
      ],
      "execution_count": null,
      "outputs": []
    },
    {
      "cell_type": "markdown",
      "metadata": {
        "id": "6lLyhnKPe18-",
        "colab_type": "text"
      },
      "source": [
        "# Standardizing numerical data"
      ]
    },
    {
      "cell_type": "markdown",
      "metadata": {
        "id": "rYqRaUE2fM-x",
        "colab_type": "text"
      },
      "source": [
        "**Standardizing** - It refers to rescaling by the minimum and range of the vector, to make all the elements lie between 0 and 1"
      ]
    },
    {
      "cell_type": "code",
      "metadata": {
        "id": "fu4eUHL5wuXa",
        "colab_type": "code",
        "colab": {}
      },
      "source": [
        "from sklearn.preprocessing import StandardScaler\n",
        "scaler = StandardScaler()\n",
        "scaler.fit(train_data[df_num])\n",
        "train_data[df_num] = scaler.transform(train_data[df_num])\n",
        "\n",
        "x_train = train_data.drop(\"income\",axis=1)\n",
        "y_train = train_data.income"
      ],
      "execution_count": null,
      "outputs": []
    },
    {
      "cell_type": "markdown",
      "metadata": {
        "id": "VJ9I6r6ulbc4",
        "colab_type": "text"
      },
      "source": [
        "# Encoding Categorical feature"
      ]
    },
    {
      "cell_type": "code",
      "metadata": {
        "id": "jZi__1LEliqu",
        "colab_type": "code",
        "colab": {}
      },
      "source": [
        "from sklearn.linear_model import LogisticRegression\n",
        "log = LogisticRegression(max_iter=250)\n",
        "log.fit(x_train,y_train)"
      ],
      "execution_count": null,
      "outputs": []
    },
    {
      "cell_type": "markdown",
      "metadata": {
        "id": "oicSTw6TlnU-",
        "colab_type": "text"
      },
      "source": [
        "**Observation**\n",
        "\n",
        "Fit data for training"
      ]
    },
    {
      "cell_type": "code",
      "metadata": {
        "id": "hm9RespCvqQD",
        "colab_type": "code",
        "colab": {}
      },
      "source": [
        "test_data[df_num] = scaler.transform(test_data[df_num])\n",
        "x_test = test_data.drop(\"income\",axis=1)\n",
        "y_test = test_data.income\n",
        "\n",
        "y_predict = log.predict(x_test)\n",
        "y_predict\n"
      ],
      "execution_count": null,
      "outputs": []
    },
    {
      "cell_type": "markdown",
      "metadata": {
        "id": "WTcpm0Pxl4zT",
        "colab_type": "text"
      },
      "source": [
        "**Observation**\n",
        "\n",
        "Predict y Using our train Model\n"
      ]
    },
    {
      "cell_type": "code",
      "metadata": {
        "id": "dwSyhBzliknk",
        "colab_type": "code",
        "colab": {}
      },
      "source": [
        "from sklearn.metrics import accuracy_score,classification_report,confusion_matrix\n"
      ],
      "execution_count": null,
      "outputs": []
    },
    {
      "cell_type": "code",
      "metadata": {
        "id": "UdwMIJR3qBMT",
        "colab_type": "code",
        "colab": {}
      },
      "source": [
        "#accuracy_score(y_predict,y_test)\n",
        "accuracy_score(y_predict,y_test)"
      ],
      "execution_count": null,
      "outputs": []
    },
    {
      "cell_type": "code",
      "metadata": {
        "id": "kX_ilZ7lwDLj",
        "colab_type": "code",
        "colab": {
          "base_uri": "https://localhost:8080/",
          "height": 181
        },
        "outputId": "af56a9e0-50b2-4279-bb76-0ef028e11cbb"
      },
      "source": [
        "print(classification_report(y_predict,y_test))"
      ],
      "execution_count": 176,
      "outputs": [
        {
          "output_type": "stream",
          "text": [
            "              precision    recall  f1-score   support\n",
            "\n",
            "           0       0.93      0.87      0.90      9066\n",
            "           1       0.59      0.75      0.66      2240\n",
            "\n",
            "    accuracy                           0.85     11306\n",
            "   macro avg       0.76      0.81      0.78     11306\n",
            "weighted avg       0.87      0.85      0.86     11306\n",
            "\n"
          ],
          "name": "stdout"
        }
      ]
    },
    {
      "cell_type": "code",
      "metadata": {
        "id": "wg94uTNKqA67",
        "colab_type": "code",
        "colab": {}
      },
      "source": [
        "print(confusion_matrix(y_predict,y_test))"
      ],
      "execution_count": null,
      "outputs": []
    },
    {
      "cell_type": "markdown",
      "metadata": {
        "id": "rVi8lJWdqaLf",
        "colab_type": "text"
      },
      "source": [
        "# Recursive Feature Elimination(RFE) reducing the dimensionality."
      ]
    },
    {
      "cell_type": "code",
      "metadata": {
        "id": "__Rl9dFPqAq3",
        "colab_type": "code",
        "colab": {}
      },
      "source": [
        "from sklearn.feature_selection import RFE\n",
        "\n",
        "log_temp = LogisticRegression(max_iter=250)\n",
        "rfe = RFE(log_temp,20) \n",
        "rfe = rfe.fit(x_train, y_train) "
      ],
      "execution_count": null,
      "outputs": []
    },
    {
      "cell_type": "code",
      "metadata": {
        "id": "Ph-OtxN_pkaI",
        "colab_type": "code",
        "colab": {}
      },
      "source": [
        "temp_df = pd.DataFrame({'Columns' : df.drop(\"income\",axis=1), 'Included' : rfe.support_, 'Ranking' : rfe.ranking_})\n",
        "\n",
        "temp_df.loc[temp_df[\"Included\"] == True]"
      ],
      "execution_count": null,
      "outputs": []
    },
    {
      "cell_type": "code",
      "metadata": {
        "id": "GWM1NkURpk8_",
        "colab_type": "code",
        "colab": {}
      },
      "source": [
        "rfe_column = x_train.columns[rfe.support_]\n",
        "rfe_column"
      ],
      "execution_count": null,
      "outputs": []
    },
    {
      "cell_type": "code",
      "metadata": {
        "id": "5EovjSRlp3Fw",
        "colab_type": "code",
        "colab": {}
      },
      "source": [
        "from sklearn.linear_model import LogisticRegression\n",
        "logrfe = LogisticRegression(max_iter=250)\n",
        "logrfe.fit(x_train.loc[:,rfe_column], y_train)"
      ],
      "execution_count": null,
      "outputs": []
    },
    {
      "cell_type": "code",
      "metadata": {
        "id": "WdFqLHqYp3Eq",
        "colab_type": "code",
        "colab": {}
      },
      "source": [
        "from sklearn.linear_model import LogisticRegression\n",
        "logrfe = LogisticRegression(max_iter=250)\n",
        "logrfe.fit(x_train.loc[:,rfe_column], y_train)"
      ],
      "execution_count": null,
      "outputs": []
    },
    {
      "cell_type": "code",
      "metadata": {
        "id": "BYBZvYNWp3A7",
        "colab_type": "code",
        "colab": {}
      },
      "source": [
        "y_rfe_predict = logrfe.predict(x_test.loc[:,rfe_column])"
      ],
      "execution_count": null,
      "outputs": []
    },
    {
      "cell_type": "code",
      "metadata": {
        "id": "PDzi8Fy6p2-5",
        "colab_type": "code",
        "colab": {}
      },
      "source": [
        "accuracy_score(y_rfe_predict,y_test)"
      ],
      "execution_count": null,
      "outputs": []
    },
    {
      "cell_type": "code",
      "metadata": {
        "id": "1aQjP_9Zp26n",
        "colab_type": "code",
        "colab": {}
      },
      "source": [
        "print(classification_report(y_rfe_predict,y_test))"
      ],
      "execution_count": null,
      "outputs": []
    },
    {
      "cell_type": "code",
      "metadata": {
        "id": "QP-3bv9Ap25o",
        "colab_type": "code",
        "colab": {}
      },
      "source": [
        "print(confusion_matrix(y_rfe_predict,y_test))"
      ],
      "execution_count": null,
      "outputs": []
    },
    {
      "cell_type": "code",
      "metadata": {
        "id": "zePZHjNzp21n",
        "colab_type": "code",
        "colab": {}
      },
      "source": [
        "df"
      ],
      "execution_count": null,
      "outputs": []
    },
    {
      "cell_type": "code",
      "metadata": {
        "id": "BMDcFSUHp20E",
        "colab_type": "code",
        "colab": {}
      },
      "source": [
        "from sklearn.preprocessing import StandardScaler\n",
        "sc = StandardScaler()\n",
        "df[df_num] = sc.fit_transform(df.loc[:,df_num])\n",
        "df\n"
      ],
      "execution_count": null,
      "outputs": []
    },
    {
      "cell_type": "markdown",
      "metadata": {
        "id": "qK7PAtYUmyIS",
        "colab_type": "text"
      },
      "source": [
        "# PCA\n",
        "\n",
        "The main idea of principal component analysis (PCA) is to reduce the dimensionality of a data set consisting of many variables correlated with each other, either heavily or lightly, while retaining the variation present in the dataset, up to the maximum extent."
      ]
    },
    {
      "cell_type": "code",
      "metadata": {
        "id": "TsD-ey5Mp2vW",
        "colab_type": "code",
        "colab": {}
      },
      "source": [
        "from sklearn.decomposition import PCA\n",
        "pca = PCA()\n",
        "pca.fit(df)"
      ],
      "execution_count": null,
      "outputs": []
    },
    {
      "cell_type": "code",
      "metadata": {
        "id": "2KnLYuWjp2uT",
        "colab_type": "code",
        "colab": {}
      },
      "source": [
        "np.cumsum(pca.explained_variance_ratio_)"
      ],
      "execution_count": null,
      "outputs": []
    },
    {
      "cell_type": "code",
      "metadata": {
        "id": "jhgJClqDp2qM",
        "colab_type": "code",
        "colab": {}
      },
      "source": [
        "len(np.cumsum(pca.explained_variance_ratio_))"
      ],
      "execution_count": null,
      "outputs": []
    },
    {
      "cell_type": "code",
      "metadata": {
        "id": "_KMja02tp2lA",
        "colab_type": "code",
        "colab": {}
      },
      "source": [
        "sea.lineplot(np.arange(1,len(np.cumsum(pca.explained_variance_ratio_))+1),np.cumsum(pca.explained_variance_ratio_))\n",
        "plt.show()"
      ],
      "execution_count": null,
      "outputs": []
    },
    {
      "cell_type": "code",
      "metadata": {
        "id": "RlSSiXbXp2e-",
        "colab_type": "code",
        "colab": {}
      },
      "source": [
        "plt.figure(figsize=(20,8))\n",
        "sea.barplot(np.arange(1,len(np.cumsum(pca.explained_variance_ratio_))+1),np.cumsum(pca.explained_variance_ratio_))\n",
        "plt.xticks(rotation=90)\n",
        "plt.show()"
      ],
      "execution_count": null,
      "outputs": []
    },
    {
      "cell_type": "markdown",
      "metadata": {
        "id": "SEEB_y5Lo4Kf",
        "colab_type": "text"
      },
      "source": [
        "**Observation**\n",
        "\n",
        "Graph Show Most Of data is covered till 47 column"
      ]
    },
    {
      "cell_type": "code",
      "metadata": {
        "id": "rc2IhY-qp2YK",
        "colab_type": "code",
        "colab": {}
      },
      "source": [
        "labels = df.loc[:,\"income\"]\n",
        "df.drop(\"income\",axis=1,inplace=True)"
      ],
      "execution_count": null,
      "outputs": []
    },
    {
      "cell_type": "code",
      "metadata": {
        "id": "RssxqNlqp2PV",
        "colab_type": "code",
        "colab": {}
      },
      "source": [
        "pca = PCA(n_components=47)\n",
        "pca = pca.fit(df)\n",
        "dataPCA = pca.transform(df)\n",
        "dataPCA"
      ],
      "execution_count": null,
      "outputs": []
    },
    {
      "cell_type": "markdown",
      "metadata": {
        "id": "MMKUUPGnlJwy",
        "colab_type": "text"
      },
      "source": [
        "**Observation**\n",
        "PCA On feature n_components = 47\n",
        "Data after PCA in array form"
      ]
    },
    {
      "cell_type": "code",
      "metadata": {
        "id": "-amGkB5Tp2EK",
        "colab_type": "code",
        "colab": {}
      },
      "source": [
        "#Importing all Required Libery for classification\n",
        "from sklearn.tree import DecisionTreeClassifier\n",
        "from sklearn.neighbors import KNeighborsClassifier\n",
        "from sklearn.svm import SVC\n",
        "from sklearn.linear_model import LogisticRegression"
      ],
      "execution_count": null,
      "outputs": []
    },
    {
      "cell_type": "code",
      "metadata": {
        "id": "8VviaJsip110",
        "colab_type": "code",
        "colab": {}
      },
      "source": [
        "from sklearn.model_selection import train_test_split\n",
        "x_train, x_test, y_train, y_test = train_test_split(dataPCA[:45222], labels, test_size=.25, random_state=2)"
      ],
      "execution_count": null,
      "outputs": []
    },
    {
      "cell_type": "markdown",
      "metadata": {
        "id": "jWE6lsOnkq-J",
        "colab_type": "text"
      },
      "source": [
        "# Classification Report Based Upon Logistic Regression"
      ]
    },
    {
      "cell_type": "code",
      "metadata": {
        "id": "Jw1q9DaUC2sB",
        "colab_type": "code",
        "colab": {}
      },
      "source": [
        "log_pca = LogisticRegression()\n",
        "log_pca.fit(x_train,y_train)\n",
        "y_predict = log_pca.predict(x_test)\n",
        "print(\"Accuracy score \",accuracy_score(y_test,y_predict))\n",
        "print(\"\\n Confusion metricx \")\n",
        "print(confusion_matrix(y_test,y_predict))\n",
        "print(\"\\n classification Details \")\n",
        "print(classification_report(y_test,y_predict))"
      ],
      "execution_count": null,
      "outputs": []
    },
    {
      "cell_type": "markdown",
      "metadata": {
        "id": "uYCng2E9joR_",
        "colab_type": "text"
      },
      "source": [
        "# Classification Report Based Upon Dicision Tree"
      ]
    },
    {
      "cell_type": "code",
      "metadata": {
        "id": "97qcoVzlC9hJ",
        "colab_type": "code",
        "colab": {}
      },
      "source": [
        "dt = DecisionTreeClassifier()\n",
        "dt.fit(x_train,y_train)\n",
        "y_predict = dt.predict(x_test)\n",
        "print(\"Accuracy score \",accuracy_score(y_test,y_predict))\n",
        "print(\"\\n Confusion metricx \")\n",
        "print(confusion_matrix(y_test,y_predict))\n",
        "print(\"\\n classification Details \")\n",
        "print(classification_report(y_test,y_predict))"
      ],
      "execution_count": null,
      "outputs": []
    },
    {
      "cell_type": "markdown",
      "metadata": {
        "id": "sHwwFXytjOJb",
        "colab_type": "text"
      },
      "source": [
        "# Classification Report Based Upon KNN "
      ]
    },
    {
      "cell_type": "code",
      "metadata": {
        "id": "4KNi98u6DI7U",
        "colab_type": "code",
        "colab": {}
      },
      "source": [
        "knn = KNeighborsClassifier(n_neighbors=1)\n",
        "knn.fit(x_train,y_train)\n",
        "y_predict = knn.predict(x_test)\n",
        "print(\"Accuracy score \",accuracy_score(y_test,y_predict))\n",
        "print(\"\\n Confusion metricx \")\n",
        "print(confusion_matrix(y_test,y_predict))\n",
        "print(\"\\n classification Details \")\n",
        "print(classification_report(y_test,y_predict))"
      ],
      "execution_count": null,
      "outputs": []
    },
    {
      "cell_type": "markdown",
      "metadata": {
        "id": "1g2sU1Umi-Zi",
        "colab_type": "text"
      },
      "source": [
        "# Classification Report Based Upon Support Vector Machine"
      ]
    },
    {
      "cell_type": "code",
      "metadata": {
        "id": "14-XiClpiUUT",
        "colab_type": "code",
        "colab": {}
      },
      "source": [
        "sv = SVC()\n",
        "sv.fit(x_train,y_train)\n",
        "y_predict = sv.predict(x_test)\n",
        "print(\"Accuracy score \",accuracy_score(y_test,y_predict))\n",
        "print(\"\\n Confusion metricx \")\n",
        "print(confusion_matrix(y_test,y_predict))\n",
        "print(\"\\n classification Details \")\n",
        "print(classification_report(y_test,y_predict))"
      ],
      "execution_count": null,
      "outputs": []
    }
  ]
}